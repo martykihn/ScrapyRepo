{
 "cells": [
  {
   "cell_type": "markdown",
   "metadata": {},
   "source": [
    "The scraped movie plots were retrieved using Scrapy. However, the website didnt' have genres or boxoffice which I needed for analysis. This file accesses an API for themoviedb.org (TMDB.org) to pull genres for the scraped titles. I also used The-Numbers (from class) to scrape boxoffice figures."
   ]
  },
  {
   "cell_type": "code",
   "execution_count": 1,
   "metadata": {},
   "outputs": [],
   "source": [
    "import requests"
   ]
  },
  {
   "cell_type": "markdown",
   "metadata": {},
   "source": [
    "request = requests.get('http://api.themoviedb.org')\n",
    "print(request.text)"
   ]
  },
  {
   "cell_type": "code",
   "execution_count": 3,
   "metadata": {},
   "outputs": [
    {
     "name": "stdout",
     "output_type": "stream",
     "text": [
      "200\n"
     ]
    }
   ],
   "source": [
    "print(request.status_code)"
   ]
  },
  {
   "cell_type": "code",
   "execution_count": 8,
   "metadata": {},
   "outputs": [],
   "source": [
    "request = requests.get('https://api.themoviedb.org/3/search/movie?api_key=c6791e522de342ab2838a404558085e5&language=en-US&query=avatar&page=1&include_adult=false')"
   ]
  },
  {
   "cell_type": "code",
   "execution_count": 9,
   "metadata": {},
   "outputs": [
    {
     "data": {
      "text/plain": [
       "<Response [200]>"
      ]
     },
     "execution_count": 9,
     "metadata": {},
     "output_type": "execute_result"
    }
   ],
   "source": [
    "request"
   ]
  },
  {
   "cell_type": "code",
   "execution_count": 11,
   "metadata": {},
   "outputs": [],
   "source": [
    "rhyme_json = request.json()"
   ]
  },
  {
   "cell_type": "code",
   "execution_count": 36,
   "metadata": {},
   "outputs": [
    {
     "name": "stdout",
     "output_type": "stream",
     "text": [
      "Avatar\n"
     ]
    }
   ],
   "source": [
    "print(rhyme_json['results'][0]['title'])"
   ]
  },
  {
   "cell_type": "code",
   "execution_count": 42,
   "metadata": {},
   "outputs": [
    {
     "name": "stdout",
     "output_type": "stream",
     "text": [
      "[28, 12, 14, 878]\n"
     ]
    }
   ],
   "source": [
    "print(rhyme_json['results'][0]['genre_ids'])"
   ]
  },
  {
   "cell_type": "code",
   "execution_count": 43,
   "metadata": {},
   "outputs": [],
   "source": [
    "import pandas as pd"
   ]
  },
  {
   "cell_type": "code",
   "execution_count": 127,
   "metadata": {},
   "outputs": [],
   "source": [
    "df = pd.read_csv(\"~/desktop/spoiler_data_raw/movie_spoilers_all.csv\")"
   ]
  },
  {
   "cell_type": "code",
   "execution_count": 128,
   "metadata": {},
   "outputs": [
    {
     "data": {
      "text/html": [
       "<div>\n",
       "<style scoped>\n",
       "    .dataframe tbody tr th:only-of-type {\n",
       "        vertical-align: middle;\n",
       "    }\n",
       "\n",
       "    .dataframe tbody tr th {\n",
       "        vertical-align: top;\n",
       "    }\n",
       "\n",
       "    .dataframe thead th {\n",
       "        text-align: right;\n",
       "    }\n",
       "</style>\n",
       "<table border=\"1\" class=\"dataframe\">\n",
       "  <thead>\n",
       "    <tr style=\"text-align: right;\">\n",
       "      <th></th>\n",
       "      <th>spoiler</th>\n",
       "      <th>title</th>\n",
       "      <th>url</th>\n",
       "    </tr>\n",
       "  </thead>\n",
       "  <tbody>\n",
       "    <tr>\n",
       "      <th>0</th>\n",
       "      <td>In 1997, young JD Vance (Owen Aztalos) lives i...</td>\n",
       "      <td>HILLBILLY ELEGY</td>\n",
       "      <td>https://themoviespoiler.com/movies/hillbilly-e...</td>\n",
       "    </tr>\n",
       "    <tr>\n",
       "      <th>1</th>\n",
       "      <td>Jack Foster (Micheal Richardson) is the manage...</td>\n",
       "      <td>MADE IN ITALY</td>\n",
       "      <td>https://themoviespoiler.com/movies/made-in-italy/</td>\n",
       "    </tr>\n",
       "    <tr>\n",
       "      <th>2</th>\n",
       "      <td>Paris 1934 – an elderly Marie Curie (Rosamund ...</td>\n",
       "      <td>RADIOACTIVE</td>\n",
       "      <td>https://themoviespoiler.com/movies/radioactive/</td>\n",
       "    </tr>\n",
       "    <tr>\n",
       "      <th>3</th>\n",
       "      <td>1919 – In the Eastern European town of Schlups...</td>\n",
       "      <td>AN AMERICAN PICKLE</td>\n",
       "      <td>https://themoviespoiler.com/movies/an-american...</td>\n",
       "    </tr>\n",
       "    <tr>\n",
       "      <th>4</th>\n",
       "      <td>1983 – Up in the Orbita-4 spaceship, cosmonaut...</td>\n",
       "      <td>SPUTNIK</td>\n",
       "      <td>https://themoviespoiler.com/movies/sputnik/</td>\n",
       "    </tr>\n",
       "  </tbody>\n",
       "</table>\n",
       "</div>"
      ],
      "text/plain": [
       "                                             spoiler               title  \\\n",
       "0  In 1997, young JD Vance (Owen Aztalos) lives i...     HILLBILLY ELEGY   \n",
       "1  Jack Foster (Micheal Richardson) is the manage...       MADE IN ITALY   \n",
       "2  Paris 1934 – an elderly Marie Curie (Rosamund ...         RADIOACTIVE   \n",
       "3  1919 – In the Eastern European town of Schlups...  AN AMERICAN PICKLE   \n",
       "4  1983 – Up in the Orbita-4 spaceship, cosmonaut...             SPUTNIK   \n",
       "\n",
       "                                                 url  \n",
       "0  https://themoviespoiler.com/movies/hillbilly-e...  \n",
       "1  https://themoviespoiler.com/movies/made-in-italy/  \n",
       "2    https://themoviespoiler.com/movies/radioactive/  \n",
       "3  https://themoviespoiler.com/movies/an-american...  \n",
       "4        https://themoviespoiler.com/movies/sputnik/  "
      ]
     },
     "execution_count": 128,
     "metadata": {},
     "output_type": "execute_result"
    }
   ],
   "source": [
    "df.head()"
   ]
  },
  {
   "cell_type": "code",
   "execution_count": 129,
   "metadata": {},
   "outputs": [
    {
     "data": {
      "text/plain": [
       "3246"
      ]
     },
     "execution_count": 129,
     "metadata": {},
     "output_type": "execute_result"
    }
   ],
   "source": [
    "df.size"
   ]
  },
  {
   "cell_type": "code",
   "execution_count": 130,
   "metadata": {},
   "outputs": [
    {
     "data": {
      "text/plain": [
       "(1082, 3)"
      ]
     },
     "execution_count": 130,
     "metadata": {},
     "output_type": "execute_result"
    }
   ],
   "source": [
    "df.shape"
   ]
  },
  {
   "cell_type": "code",
   "execution_count": 131,
   "metadata": {},
   "outputs": [
    {
     "data": {
      "text/plain": [
       "Index(['spoiler', 'title', 'url'], dtype='object')"
      ]
     },
     "execution_count": 131,
     "metadata": {},
     "output_type": "execute_result"
    }
   ],
   "source": [
    "df.columns"
   ]
  },
  {
   "cell_type": "code",
   "execution_count": 132,
   "metadata": {},
   "outputs": [
    {
     "data": {
      "text/plain": [
       "2"
      ]
     },
     "execution_count": 132,
     "metadata": {},
     "output_type": "execute_result"
    }
   ],
   "source": [
    "df.ndim"
   ]
  },
  {
   "cell_type": "code",
   "execution_count": 136,
   "metadata": {},
   "outputs": [],
   "source": [
    "import numpy as np"
   ]
  },
  {
   "cell_type": "code",
   "execution_count": 137,
   "metadata": {},
   "outputs": [],
   "source": [
    "df.insert(2,\"date\",np.NaN)"
   ]
  },
  {
   "cell_type": "code",
   "execution_count": 138,
   "metadata": {},
   "outputs": [
    {
     "data": {
      "text/html": [
       "<div>\n",
       "<style scoped>\n",
       "    .dataframe tbody tr th:only-of-type {\n",
       "        vertical-align: middle;\n",
       "    }\n",
       "\n",
       "    .dataframe tbody tr th {\n",
       "        vertical-align: top;\n",
       "    }\n",
       "\n",
       "    .dataframe thead th {\n",
       "        text-align: right;\n",
       "    }\n",
       "</style>\n",
       "<table border=\"1\" class=\"dataframe\">\n",
       "  <thead>\n",
       "    <tr style=\"text-align: right;\">\n",
       "      <th></th>\n",
       "      <th>spoiler</th>\n",
       "      <th>title</th>\n",
       "      <th>date</th>\n",
       "      <th>url</th>\n",
       "    </tr>\n",
       "  </thead>\n",
       "  <tbody>\n",
       "    <tr>\n",
       "      <th>0</th>\n",
       "      <td>In 1997, young JD Vance (Owen Aztalos) lives i...</td>\n",
       "      <td>HILLBILLY ELEGY</td>\n",
       "      <td>NaN</td>\n",
       "      <td>https://themoviespoiler.com/movies/hillbilly-e...</td>\n",
       "    </tr>\n",
       "    <tr>\n",
       "      <th>1</th>\n",
       "      <td>Jack Foster (Micheal Richardson) is the manage...</td>\n",
       "      <td>MADE IN ITALY</td>\n",
       "      <td>NaN</td>\n",
       "      <td>https://themoviespoiler.com/movies/made-in-italy/</td>\n",
       "    </tr>\n",
       "  </tbody>\n",
       "</table>\n",
       "</div>"
      ],
      "text/plain": [
       "                                             spoiler            title  date  \\\n",
       "0  In 1997, young JD Vance (Owen Aztalos) lives i...  HILLBILLY ELEGY   NaN   \n",
       "1  Jack Foster (Micheal Richardson) is the manage...    MADE IN ITALY   NaN   \n",
       "\n",
       "                                                 url  \n",
       "0  https://themoviespoiler.com/movies/hillbilly-e...  \n",
       "1  https://themoviespoiler.com/movies/made-in-italy/  "
      ]
     },
     "execution_count": 138,
     "metadata": {},
     "output_type": "execute_result"
    }
   ],
   "source": [
    "df.head(2)"
   ]
  },
  {
   "cell_type": "code",
   "execution_count": 139,
   "metadata": {},
   "outputs": [],
   "source": [
    "new = df['title'].str.split(\" \\(\", n=1, expand=True)"
   ]
  },
  {
   "cell_type": "code",
   "execution_count": 140,
   "metadata": {},
   "outputs": [
    {
     "data": {
      "text/html": [
       "<div>\n",
       "<style scoped>\n",
       "    .dataframe tbody tr th:only-of-type {\n",
       "        vertical-align: middle;\n",
       "    }\n",
       "\n",
       "    .dataframe tbody tr th {\n",
       "        vertical-align: top;\n",
       "    }\n",
       "\n",
       "    .dataframe thead th {\n",
       "        text-align: right;\n",
       "    }\n",
       "</style>\n",
       "<table border=\"1\" class=\"dataframe\">\n",
       "  <thead>\n",
       "    <tr style=\"text-align: right;\">\n",
       "      <th></th>\n",
       "      <th>0</th>\n",
       "      <th>1</th>\n",
       "    </tr>\n",
       "  </thead>\n",
       "  <tbody>\n",
       "    <tr>\n",
       "      <th>1</th>\n",
       "      <td>MADE IN ITALY</td>\n",
       "      <td>None</td>\n",
       "    </tr>\n",
       "  </tbody>\n",
       "</table>\n",
       "</div>"
      ],
      "text/plain": [
       "               0     1\n",
       "1  MADE IN ITALY  None"
      ]
     },
     "execution_count": 140,
     "metadata": {},
     "output_type": "execute_result"
    }
   ],
   "source": [
    "new[1:2]"
   ]
  },
  {
   "cell_type": "code",
   "execution_count": 141,
   "metadata": {},
   "outputs": [],
   "source": [
    "df['title1'] = new[0]\n",
    "df['date1'] = new[1]"
   ]
  },
  {
   "cell_type": "code",
   "execution_count": 142,
   "metadata": {},
   "outputs": [
    {
     "data": {
      "text/plain": [
       "Index(['spoiler', 'title', 'date', 'url', 'title1', 'date1'], dtype='object')"
      ]
     },
     "execution_count": 142,
     "metadata": {},
     "output_type": "execute_result"
    }
   ],
   "source": [
    "df.columns"
   ]
  },
  {
   "cell_type": "markdown",
   "metadata": {},
   "source": [
    "Some of the titles had the date (year) in them after a \"-\" -- I wanted to pull the year out of the title and put it into the date column"
   ]
  },
  {
   "cell_type": "code",
   "execution_count": 143,
   "metadata": {},
   "outputs": [],
   "source": [
    "df['date1'] = df['date1'].str.replace(\"\\)\", \"\")"
   ]
  },
  {
   "cell_type": "code",
   "execution_count": 144,
   "metadata": {},
   "outputs": [
    {
     "data": {
      "text/plain": [
       "0       None\n",
       "1       None\n",
       "2       None\n",
       "3       None\n",
       "4       None\n",
       "        ... \n",
       "1077    None\n",
       "1078    2018\n",
       "1079    None\n",
       "1080    None\n",
       "1081    None\n",
       "Name: date1, Length: 1082, dtype: object"
      ]
     },
     "execution_count": 144,
     "metadata": {},
     "output_type": "execute_result"
    }
   ],
   "source": [
    "df['date1']"
   ]
  },
  {
   "cell_type": "code",
   "execution_count": 145,
   "metadata": {},
   "outputs": [],
   "source": [
    "orig_title = df.pop(\"title\")"
   ]
  },
  {
   "cell_type": "code",
   "execution_count": 146,
   "metadata": {},
   "outputs": [],
   "source": [
    "new_title = df.pop(\"title1\")\n",
    "new_date = df.pop(\"date1\")"
   ]
  },
  {
   "cell_type": "code",
   "execution_count": 147,
   "metadata": {},
   "outputs": [],
   "source": [
    "df.insert(1, 'title', new_title)"
   ]
  },
  {
   "cell_type": "code",
   "execution_count": 148,
   "metadata": {},
   "outputs": [],
   "source": [
    "df.insert(2, 'dates', new_date)"
   ]
  },
  {
   "cell_type": "code",
   "execution_count": 149,
   "metadata": {},
   "outputs": [],
   "source": [
    "del df['date']"
   ]
  },
  {
   "cell_type": "code",
   "execution_count": 150,
   "metadata": {},
   "outputs": [
    {
     "data": {
      "text/html": [
       "<div>\n",
       "<style scoped>\n",
       "    .dataframe tbody tr th:only-of-type {\n",
       "        vertical-align: middle;\n",
       "    }\n",
       "\n",
       "    .dataframe tbody tr th {\n",
       "        vertical-align: top;\n",
       "    }\n",
       "\n",
       "    .dataframe thead th {\n",
       "        text-align: right;\n",
       "    }\n",
       "</style>\n",
       "<table border=\"1\" class=\"dataframe\">\n",
       "  <thead>\n",
       "    <tr style=\"text-align: right;\">\n",
       "      <th></th>\n",
       "      <th>spoiler</th>\n",
       "      <th>title</th>\n",
       "      <th>dates</th>\n",
       "      <th>url</th>\n",
       "    </tr>\n",
       "  </thead>\n",
       "  <tbody>\n",
       "    <tr>\n",
       "      <th>0</th>\n",
       "      <td>In 1997, young JD Vance (Owen Aztalos) lives i...</td>\n",
       "      <td>HILLBILLY ELEGY</td>\n",
       "      <td>None</td>\n",
       "      <td>https://themoviespoiler.com/movies/hillbilly-e...</td>\n",
       "    </tr>\n",
       "    <tr>\n",
       "      <th>1</th>\n",
       "      <td>Jack Foster (Micheal Richardson) is the manage...</td>\n",
       "      <td>MADE IN ITALY</td>\n",
       "      <td>None</td>\n",
       "      <td>https://themoviespoiler.com/movies/made-in-italy/</td>\n",
       "    </tr>\n",
       "    <tr>\n",
       "      <th>2</th>\n",
       "      <td>Paris 1934 – an elderly Marie Curie (Rosamund ...</td>\n",
       "      <td>RADIOACTIVE</td>\n",
       "      <td>None</td>\n",
       "      <td>https://themoviespoiler.com/movies/radioactive/</td>\n",
       "    </tr>\n",
       "    <tr>\n",
       "      <th>3</th>\n",
       "      <td>1919 – In the Eastern European town of Schlups...</td>\n",
       "      <td>AN AMERICAN PICKLE</td>\n",
       "      <td>None</td>\n",
       "      <td>https://themoviespoiler.com/movies/an-american...</td>\n",
       "    </tr>\n",
       "    <tr>\n",
       "      <th>4</th>\n",
       "      <td>1983 – Up in the Orbita-4 spaceship, cosmonaut...</td>\n",
       "      <td>SPUTNIK</td>\n",
       "      <td>None</td>\n",
       "      <td>https://themoviespoiler.com/movies/sputnik/</td>\n",
       "    </tr>\n",
       "  </tbody>\n",
       "</table>\n",
       "</div>"
      ],
      "text/plain": [
       "                                             spoiler               title  \\\n",
       "0  In 1997, young JD Vance (Owen Aztalos) lives i...     HILLBILLY ELEGY   \n",
       "1  Jack Foster (Micheal Richardson) is the manage...       MADE IN ITALY   \n",
       "2  Paris 1934 – an elderly Marie Curie (Rosamund ...         RADIOACTIVE   \n",
       "3  1919 – In the Eastern European town of Schlups...  AN AMERICAN PICKLE   \n",
       "4  1983 – Up in the Orbita-4 spaceship, cosmonaut...             SPUTNIK   \n",
       "\n",
       "  dates                                                url  \n",
       "0  None  https://themoviespoiler.com/movies/hillbilly-e...  \n",
       "1  None  https://themoviespoiler.com/movies/made-in-italy/  \n",
       "2  None    https://themoviespoiler.com/movies/radioactive/  \n",
       "3  None  https://themoviespoiler.com/movies/an-american...  \n",
       "4  None        https://themoviespoiler.com/movies/sputnik/  "
      ]
     },
     "execution_count": 150,
     "metadata": {},
     "output_type": "execute_result"
    }
   ],
   "source": [
    "df.head()"
   ]
  },
  {
   "cell_type": "code",
   "execution_count": 151,
   "metadata": {},
   "outputs": [],
   "source": [
    "df.rename(columns={'dates':'date'}, inplace=True)"
   ]
  },
  {
   "cell_type": "code",
   "execution_count": 152,
   "metadata": {},
   "outputs": [
    {
     "data": {
      "text/html": [
       "<div>\n",
       "<style scoped>\n",
       "    .dataframe tbody tr th:only-of-type {\n",
       "        vertical-align: middle;\n",
       "    }\n",
       "\n",
       "    .dataframe tbody tr th {\n",
       "        vertical-align: top;\n",
       "    }\n",
       "\n",
       "    .dataframe thead th {\n",
       "        text-align: right;\n",
       "    }\n",
       "</style>\n",
       "<table border=\"1\" class=\"dataframe\">\n",
       "  <thead>\n",
       "    <tr style=\"text-align: right;\">\n",
       "      <th></th>\n",
       "      <th>spoiler</th>\n",
       "      <th>title</th>\n",
       "      <th>date</th>\n",
       "      <th>url</th>\n",
       "    </tr>\n",
       "  </thead>\n",
       "  <tbody>\n",
       "    <tr>\n",
       "      <th>0</th>\n",
       "      <td>In 1997, young JD Vance (Owen Aztalos) lives i...</td>\n",
       "      <td>HILLBILLY ELEGY</td>\n",
       "      <td>None</td>\n",
       "      <td>https://themoviespoiler.com/movies/hillbilly-e...</td>\n",
       "    </tr>\n",
       "    <tr>\n",
       "      <th>1</th>\n",
       "      <td>Jack Foster (Micheal Richardson) is the manage...</td>\n",
       "      <td>MADE IN ITALY</td>\n",
       "      <td>None</td>\n",
       "      <td>https://themoviespoiler.com/movies/made-in-italy/</td>\n",
       "    </tr>\n",
       "    <tr>\n",
       "      <th>2</th>\n",
       "      <td>Paris 1934 – an elderly Marie Curie (Rosamund ...</td>\n",
       "      <td>RADIOACTIVE</td>\n",
       "      <td>None</td>\n",
       "      <td>https://themoviespoiler.com/movies/radioactive/</td>\n",
       "    </tr>\n",
       "    <tr>\n",
       "      <th>3</th>\n",
       "      <td>1919 – In the Eastern European town of Schlups...</td>\n",
       "      <td>AN AMERICAN PICKLE</td>\n",
       "      <td>None</td>\n",
       "      <td>https://themoviespoiler.com/movies/an-american...</td>\n",
       "    </tr>\n",
       "    <tr>\n",
       "      <th>4</th>\n",
       "      <td>1983 – Up in the Orbita-4 spaceship, cosmonaut...</td>\n",
       "      <td>SPUTNIK</td>\n",
       "      <td>None</td>\n",
       "      <td>https://themoviespoiler.com/movies/sputnik/</td>\n",
       "    </tr>\n",
       "  </tbody>\n",
       "</table>\n",
       "</div>"
      ],
      "text/plain": [
       "                                             spoiler               title  \\\n",
       "0  In 1997, young JD Vance (Owen Aztalos) lives i...     HILLBILLY ELEGY   \n",
       "1  Jack Foster (Micheal Richardson) is the manage...       MADE IN ITALY   \n",
       "2  Paris 1934 – an elderly Marie Curie (Rosamund ...         RADIOACTIVE   \n",
       "3  1919 – In the Eastern European town of Schlups...  AN AMERICAN PICKLE   \n",
       "4  1983 – Up in the Orbita-4 spaceship, cosmonaut...             SPUTNIK   \n",
       "\n",
       "   date                                                url  \n",
       "0  None  https://themoviespoiler.com/movies/hillbilly-e...  \n",
       "1  None  https://themoviespoiler.com/movies/made-in-italy/  \n",
       "2  None    https://themoviespoiler.com/movies/radioactive/  \n",
       "3  None  https://themoviespoiler.com/movies/an-american...  \n",
       "4  None        https://themoviespoiler.com/movies/sputnik/  "
      ]
     },
     "execution_count": 152,
     "metadata": {},
     "output_type": "execute_result"
    }
   ],
   "source": [
    "df.head()"
   ]
  },
  {
   "cell_type": "code",
   "execution_count": 153,
   "metadata": {},
   "outputs": [
    {
     "data": {
      "text/plain": [
       "count      114\n",
       "unique      23\n",
       "top       2019\n",
       "freq        39\n",
       "Name: date, dtype: object"
      ]
     },
     "execution_count": 153,
     "metadata": {},
     "output_type": "execute_result"
    }
   ],
   "source": [
    "df['date'].describe()"
   ]
  },
  {
   "cell_type": "code",
   "execution_count": 154,
   "metadata": {},
   "outputs": [
    {
     "data": {
      "text/plain": [
       "10    https://themoviespoiler.com/movies/words-on-ba...\n",
       "11    https://themoviespoiler.com/movies/chemical-he...\n",
       "12    https://themoviespoiler.com/movies/the-secret-...\n",
       "13    https://themoviespoiler.com/movies/the-one-and...\n",
       "14    https://themoviespoiler.com/movies/bill-ted-fa...\n",
       "15    https://themoviespoiler.com/movies/the-new-mut...\n",
       "16    https://themoviespoiler.com/movies/dragon-ball...\n",
       "17      https://themoviespoiler.com/movies/escape-room/\n",
       "18    https://themoviespoiler.com/movies/a-dogs-way-...\n",
       "19       https://themoviespoiler.com/movies/green-book/\n",
       "Name: url, dtype: object"
      ]
     },
     "execution_count": 154,
     "metadata": {},
     "output_type": "execute_result"
    }
   ],
   "source": [
    "df['url'][10:20]"
   ]
  },
  {
   "cell_type": "code",
   "execution_count": 155,
   "metadata": {},
   "outputs": [],
   "source": [
    "df.to_csv('~/desktop/workingdata.csv')"
   ]
  },
  {
   "cell_type": "code",
   "execution_count": 269,
   "metadata": {},
   "outputs": [],
   "source": [
    "df = pd.read_csv(\"~/desktop/workingdata.csv\")"
   ]
  },
  {
   "cell_type": "code",
   "execution_count": 270,
   "metadata": {},
   "outputs": [
    {
     "data": {
      "text/html": [
       "<div>\n",
       "<style scoped>\n",
       "    .dataframe tbody tr th:only-of-type {\n",
       "        vertical-align: middle;\n",
       "    }\n",
       "\n",
       "    .dataframe tbody tr th {\n",
       "        vertical-align: top;\n",
       "    }\n",
       "\n",
       "    .dataframe thead th {\n",
       "        text-align: right;\n",
       "    }\n",
       "</style>\n",
       "<table border=\"1\" class=\"dataframe\">\n",
       "  <thead>\n",
       "    <tr style=\"text-align: right;\">\n",
       "      <th></th>\n",
       "      <th>spoiler</th>\n",
       "      <th>title</th>\n",
       "      <th>date</th>\n",
       "      <th>url</th>\n",
       "    </tr>\n",
       "  </thead>\n",
       "  <tbody>\n",
       "    <tr>\n",
       "      <th>0</th>\n",
       "      <td>In 1997, young JD Vance (Owen Aztalos) lives i...</td>\n",
       "      <td>HILLBILLY ELEGY</td>\n",
       "      <td>NaN</td>\n",
       "      <td>https://themoviespoiler.com/movies/hillbilly-e...</td>\n",
       "    </tr>\n",
       "    <tr>\n",
       "      <th>1</th>\n",
       "      <td>Jack Foster (Micheal Richardson) is the manage...</td>\n",
       "      <td>MADE IN ITALY</td>\n",
       "      <td>NaN</td>\n",
       "      <td>https://themoviespoiler.com/movies/made-in-italy/</td>\n",
       "    </tr>\n",
       "    <tr>\n",
       "      <th>2</th>\n",
       "      <td>Paris 1934 – an elderly Marie Curie (Rosamund ...</td>\n",
       "      <td>RADIOACTIVE</td>\n",
       "      <td>NaN</td>\n",
       "      <td>https://themoviespoiler.com/movies/radioactive/</td>\n",
       "    </tr>\n",
       "    <tr>\n",
       "      <th>3</th>\n",
       "      <td>1919 – In the Eastern European town of Schlups...</td>\n",
       "      <td>AN AMERICAN PICKLE</td>\n",
       "      <td>NaN</td>\n",
       "      <td>https://themoviespoiler.com/movies/an-american...</td>\n",
       "    </tr>\n",
       "    <tr>\n",
       "      <th>4</th>\n",
       "      <td>1983 – Up in the Orbita-4 spaceship, cosmonaut...</td>\n",
       "      <td>SPUTNIK</td>\n",
       "      <td>NaN</td>\n",
       "      <td>https://themoviespoiler.com/movies/sputnik/</td>\n",
       "    </tr>\n",
       "  </tbody>\n",
       "</table>\n",
       "</div>"
      ],
      "text/plain": [
       "                                             spoiler               title  \\\n",
       "0  In 1997, young JD Vance (Owen Aztalos) lives i...     HILLBILLY ELEGY   \n",
       "1  Jack Foster (Micheal Richardson) is the manage...       MADE IN ITALY   \n",
       "2  Paris 1934 – an elderly Marie Curie (Rosamund ...         RADIOACTIVE   \n",
       "3  1919 – In the Eastern European town of Schlups...  AN AMERICAN PICKLE   \n",
       "4  1983 – Up in the Orbita-4 spaceship, cosmonaut...             SPUTNIK   \n",
       "\n",
       "   date                                                url  \n",
       "0   NaN  https://themoviespoiler.com/movies/hillbilly-e...  \n",
       "1   NaN  https://themoviespoiler.com/movies/made-in-italy/  \n",
       "2   NaN    https://themoviespoiler.com/movies/radioactive/  \n",
       "3   NaN  https://themoviespoiler.com/movies/an-american...  \n",
       "4   NaN        https://themoviespoiler.com/movies/sputnik/  "
      ]
     },
     "execution_count": 270,
     "metadata": {},
     "output_type": "execute_result"
    }
   ],
   "source": [
    "df.head()"
   ]
  },
  {
   "cell_type": "code",
   "execution_count": 271,
   "metadata": {},
   "outputs": [],
   "source": [
    "test_df = df"
   ]
  },
  {
   "cell_type": "code",
   "execution_count": 272,
   "metadata": {},
   "outputs": [],
   "source": [
    "test_df['title'] = test_df['title'].str.title()"
   ]
  },
  {
   "cell_type": "code",
   "execution_count": 273,
   "metadata": {},
   "outputs": [
    {
     "data": {
      "text/plain": [
       "0                       Hillbilly Elegy\n",
       "1                         Made In Italy\n",
       "2                           Radioactive\n",
       "3                    An American Pickle\n",
       "4                               Sputnik\n",
       "                     ...               \n",
       "1073            Can You Ever Forgive Me\n",
       "1074                          Destroyer\n",
       "1075    The Nutcracker And The 4 Realms\n",
       "1076                  Welcome To Marwen\n",
       "1077                  Holmes And Watson\n",
       "Name: title, Length: 1078, dtype: object"
      ]
     },
     "execution_count": 273,
     "metadata": {},
     "output_type": "execute_result"
    }
   ],
   "source": [
    "test_df['title']"
   ]
  },
  {
   "cell_type": "code",
   "execution_count": 274,
   "metadata": {},
   "outputs": [],
   "source": [
    "df['title'] = df['title'].str.title()"
   ]
  },
  {
   "cell_type": "code",
   "execution_count": 275,
   "metadata": {},
   "outputs": [],
   "source": [
    "import re"
   ]
  },
  {
   "cell_type": "code",
   "execution_count": 276,
   "metadata": {},
   "outputs": [
    {
     "data": {
      "text/plain": [
       "0       https://themoviespoiler.com/movies/hillbilly-e...\n",
       "1       https://themoviespoiler.com/movies/made-in-italy/\n",
       "2         https://themoviespoiler.com/movies/radioactive/\n",
       "3       https://themoviespoiler.com/movies/an-american...\n",
       "4             https://themoviespoiler.com/movies/sputnik/\n",
       "                              ...                        \n",
       "1073    https://themoviespoiler.com/2018Spoilers/CanYo...\n",
       "1074    https://themoviespoiler.com/2018Spoilers/Destr...\n",
       "1075    https://themoviespoiler.com/2018Spoilers/Nutcr...\n",
       "1076    https://themoviespoiler.com/2018Spoilers/Marwe...\n",
       "1077    https://themoviespoiler.com/2018Spoilers/Holme...\n",
       "Name: url, Length: 1078, dtype: object"
      ]
     },
     "execution_count": 276,
     "metadata": {},
     "output_type": "execute_result"
    }
   ],
   "source": [
    "test_df['url']"
   ]
  },
  {
   "cell_type": "markdown",
   "metadata": {},
   "source": [
    "Some of the URLs (many of them) had the missing year in the URLs (as you can from the example above). I wanted to pull the year out of the URL and put it into the missing 'Year' column."
   ]
  },
  {
   "cell_type": "code",
   "execution_count": 277,
   "metadata": {},
   "outputs": [],
   "source": [
    "test = df['url'].str.extract(\"([2][0-9]{3})\")"
   ]
  },
  {
   "cell_type": "code",
   "execution_count": 278,
   "metadata": {},
   "outputs": [
    {
     "data": {
      "text/html": [
       "<div>\n",
       "<style scoped>\n",
       "    .dataframe tbody tr th:only-of-type {\n",
       "        vertical-align: middle;\n",
       "    }\n",
       "\n",
       "    .dataframe tbody tr th {\n",
       "        vertical-align: top;\n",
       "    }\n",
       "\n",
       "    .dataframe thead th {\n",
       "        text-align: right;\n",
       "    }\n",
       "</style>\n",
       "<table border=\"1\" class=\"dataframe\">\n",
       "  <thead>\n",
       "    <tr style=\"text-align: right;\">\n",
       "      <th></th>\n",
       "      <th>0</th>\n",
       "    </tr>\n",
       "  </thead>\n",
       "  <tbody>\n",
       "    <tr>\n",
       "      <th>count</th>\n",
       "      <td>783</td>\n",
       "    </tr>\n",
       "    <tr>\n",
       "      <th>unique</th>\n",
       "      <td>21</td>\n",
       "    </tr>\n",
       "    <tr>\n",
       "      <th>top</th>\n",
       "      <td>2015</td>\n",
       "    </tr>\n",
       "    <tr>\n",
       "      <th>freq</th>\n",
       "      <td>161</td>\n",
       "    </tr>\n",
       "  </tbody>\n",
       "</table>\n",
       "</div>"
      ],
      "text/plain": [
       "           0\n",
       "count    783\n",
       "unique    21\n",
       "top     2015\n",
       "freq     161"
      ]
     },
     "execution_count": 278,
     "metadata": {},
     "output_type": "execute_result"
    }
   ],
   "source": [
    "test.describe()"
   ]
  },
  {
   "cell_type": "code",
   "execution_count": 279,
   "metadata": {},
   "outputs": [],
   "source": [
    "df['new_date'] = test"
   ]
  },
  {
   "cell_type": "code",
   "execution_count": 281,
   "metadata": {},
   "outputs": [],
   "source": [
    "test_df = df"
   ]
  },
  {
   "cell_type": "code",
   "execution_count": 282,
   "metadata": {},
   "outputs": [],
   "source": [
    "import pandas as pd"
   ]
  },
  {
   "cell_type": "code",
   "execution_count": 283,
   "metadata": {},
   "outputs": [
    {
     "data": {
      "text/plain": [
       "Index(['spoiler', 'title', 'date', 'url', 'new_date'], dtype='object')"
      ]
     },
     "execution_count": 283,
     "metadata": {},
     "output_type": "execute_result"
    }
   ],
   "source": [
    "df.columns"
   ]
  },
  {
   "cell_type": "code",
   "execution_count": 284,
   "metadata": {},
   "outputs": [],
   "source": [
    "df = df[['spoiler', 'title', 'date', 'new_date', 'url']]"
   ]
  },
  {
   "cell_type": "code",
   "execution_count": 285,
   "metadata": {},
   "outputs": [],
   "source": [
    "test_df = test_df['date'].combine_first(test_df['new_date'])"
   ]
  },
  {
   "cell_type": "code",
   "execution_count": 286,
   "metadata": {},
   "outputs": [],
   "source": [
    "test_df = df"
   ]
  },
  {
   "cell_type": "code",
   "execution_count": 287,
   "metadata": {},
   "outputs": [],
   "source": [
    "test_df['date2'] = test_df['date'].combine_first(test_df['new_date'])"
   ]
  },
  {
   "cell_type": "code",
   "execution_count": 288,
   "metadata": {},
   "outputs": [
    {
     "data": {
      "text/plain": [
       "count      811\n",
       "unique      27\n",
       "top       2015\n",
       "freq       159\n",
       "Name: date2, dtype: object"
      ]
     },
     "execution_count": 288,
     "metadata": {},
     "output_type": "execute_result"
    }
   ],
   "source": [
    "test_df['date2'].describe()"
   ]
  },
  {
   "cell_type": "code",
   "execution_count": 289,
   "metadata": {},
   "outputs": [],
   "source": [
    "test_df.to_csv('~/desktop/test.csv')"
   ]
  },
  {
   "cell_type": "code",
   "execution_count": 290,
   "metadata": {},
   "outputs": [],
   "source": [
    "del test_df['date']"
   ]
  },
  {
   "cell_type": "code",
   "execution_count": 291,
   "metadata": {},
   "outputs": [],
   "source": [
    "del test_df['new_date']"
   ]
  },
  {
   "cell_type": "code",
   "execution_count": 292,
   "metadata": {},
   "outputs": [
    {
     "data": {
      "text/plain": [
       "Index(['spoiler', 'title', 'url', 'date2'], dtype='object')"
      ]
     },
     "execution_count": 292,
     "metadata": {},
     "output_type": "execute_result"
    }
   ],
   "source": [
    "test_df.columns"
   ]
  },
  {
   "cell_type": "code",
   "execution_count": 293,
   "metadata": {},
   "outputs": [],
   "source": [
    "test_df = test_df[['spoiler', 'title', 'date2', 'url']]"
   ]
  },
  {
   "cell_type": "code",
   "execution_count": 295,
   "metadata": {},
   "outputs": [
    {
     "data": {
      "text/html": [
       "<div>\n",
       "<style scoped>\n",
       "    .dataframe tbody tr th:only-of-type {\n",
       "        vertical-align: middle;\n",
       "    }\n",
       "\n",
       "    .dataframe tbody tr th {\n",
       "        vertical-align: top;\n",
       "    }\n",
       "\n",
       "    .dataframe thead th {\n",
       "        text-align: right;\n",
       "    }\n",
       "</style>\n",
       "<table border=\"1\" class=\"dataframe\">\n",
       "  <thead>\n",
       "    <tr style=\"text-align: right;\">\n",
       "      <th></th>\n",
       "      <th>spoiler</th>\n",
       "      <th>title</th>\n",
       "      <th>date</th>\n",
       "      <th>url</th>\n",
       "    </tr>\n",
       "  </thead>\n",
       "  <tbody>\n",
       "    <tr>\n",
       "      <th>0</th>\n",
       "      <td>In 1997, young JD Vance (Owen Aztalos) lives i...</td>\n",
       "      <td>Hillbilly Elegy</td>\n",
       "      <td>NaN</td>\n",
       "      <td>https://themoviespoiler.com/movies/hillbilly-e...</td>\n",
       "    </tr>\n",
       "    <tr>\n",
       "      <th>1</th>\n",
       "      <td>Jack Foster (Micheal Richardson) is the manage...</td>\n",
       "      <td>Made In Italy</td>\n",
       "      <td>NaN</td>\n",
       "      <td>https://themoviespoiler.com/movies/made-in-italy/</td>\n",
       "    </tr>\n",
       "    <tr>\n",
       "      <th>2</th>\n",
       "      <td>Paris 1934 – an elderly Marie Curie (Rosamund ...</td>\n",
       "      <td>Radioactive</td>\n",
       "      <td>NaN</td>\n",
       "      <td>https://themoviespoiler.com/movies/radioactive/</td>\n",
       "    </tr>\n",
       "    <tr>\n",
       "      <th>3</th>\n",
       "      <td>1919 – In the Eastern European town of Schlups...</td>\n",
       "      <td>An American Pickle</td>\n",
       "      <td>NaN</td>\n",
       "      <td>https://themoviespoiler.com/movies/an-american...</td>\n",
       "    </tr>\n",
       "    <tr>\n",
       "      <th>4</th>\n",
       "      <td>1983 – Up in the Orbita-4 spaceship, cosmonaut...</td>\n",
       "      <td>Sputnik</td>\n",
       "      <td>NaN</td>\n",
       "      <td>https://themoviespoiler.com/movies/sputnik/</td>\n",
       "    </tr>\n",
       "    <tr>\n",
       "      <th>...</th>\n",
       "      <td>...</td>\n",
       "      <td>...</td>\n",
       "      <td>...</td>\n",
       "      <td>...</td>\n",
       "    </tr>\n",
       "    <tr>\n",
       "      <th>1073</th>\n",
       "      <td>Lee goes to a dinner party at the house of Mar...</td>\n",
       "      <td>Can You Ever Forgive Me</td>\n",
       "      <td>2018</td>\n",
       "      <td>https://themoviespoiler.com/2018Spoilers/CanYo...</td>\n",
       "    </tr>\n",
       "    <tr>\n",
       "      <th>1074</th>\n",
       "      <td>At the police station, her boss tells her she’...</td>\n",
       "      <td>Destroyer</td>\n",
       "      <td>2018</td>\n",
       "      <td>https://themoviespoiler.com/2018Spoilers/Destr...</td>\n",
       "    </tr>\n",
       "    <tr>\n",
       "      <th>1075</th>\n",
       "      <td>The Stahlbaums attend a party hosted by the ch...</td>\n",
       "      <td>The Nutcracker And The 4 Realms</td>\n",
       "      <td>2018</td>\n",
       "      <td>https://themoviespoiler.com/2018Spoilers/Nutcr...</td>\n",
       "    </tr>\n",
       "    <tr>\n",
       "      <th>1076</th>\n",
       "      <td>Mark puts the Wendy doll away along with other...</td>\n",
       "      <td>Welcome To Marwen</td>\n",
       "      <td>2018</td>\n",
       "      <td>https://themoviespoiler.com/2018Spoilers/Marwe...</td>\n",
       "    </tr>\n",
       "    <tr>\n",
       "      <th>1077</th>\n",
       "      <td>In the present day, Holmes (now played by Will...</td>\n",
       "      <td>Holmes And Watson</td>\n",
       "      <td>2018</td>\n",
       "      <td>https://themoviespoiler.com/2018Spoilers/Holme...</td>\n",
       "    </tr>\n",
       "  </tbody>\n",
       "</table>\n",
       "<p>1078 rows × 4 columns</p>\n",
       "</div>"
      ],
      "text/plain": [
       "                                                spoiler  \\\n",
       "0     In 1997, young JD Vance (Owen Aztalos) lives i...   \n",
       "1     Jack Foster (Micheal Richardson) is the manage...   \n",
       "2     Paris 1934 – an elderly Marie Curie (Rosamund ...   \n",
       "3     1919 – In the Eastern European town of Schlups...   \n",
       "4     1983 – Up in the Orbita-4 spaceship, cosmonaut...   \n",
       "...                                                 ...   \n",
       "1073  Lee goes to a dinner party at the house of Mar...   \n",
       "1074  At the police station, her boss tells her she’...   \n",
       "1075  The Stahlbaums attend a party hosted by the ch...   \n",
       "1076  Mark puts the Wendy doll away along with other...   \n",
       "1077  In the present day, Holmes (now played by Will...   \n",
       "\n",
       "                                title  date  \\\n",
       "0                     Hillbilly Elegy   NaN   \n",
       "1                       Made In Italy   NaN   \n",
       "2                         Radioactive   NaN   \n",
       "3                  An American Pickle   NaN   \n",
       "4                             Sputnik   NaN   \n",
       "...                               ...   ...   \n",
       "1073          Can You Ever Forgive Me  2018   \n",
       "1074                        Destroyer  2018   \n",
       "1075  The Nutcracker And The 4 Realms  2018   \n",
       "1076                Welcome To Marwen  2018   \n",
       "1077                Holmes And Watson  2018   \n",
       "\n",
       "                                                    url  \n",
       "0     https://themoviespoiler.com/movies/hillbilly-e...  \n",
       "1     https://themoviespoiler.com/movies/made-in-italy/  \n",
       "2       https://themoviespoiler.com/movies/radioactive/  \n",
       "3     https://themoviespoiler.com/movies/an-american...  \n",
       "4           https://themoviespoiler.com/movies/sputnik/  \n",
       "...                                                 ...  \n",
       "1073  https://themoviespoiler.com/2018Spoilers/CanYo...  \n",
       "1074  https://themoviespoiler.com/2018Spoilers/Destr...  \n",
       "1075  https://themoviespoiler.com/2018Spoilers/Nutcr...  \n",
       "1076  https://themoviespoiler.com/2018Spoilers/Marwe...  \n",
       "1077  https://themoviespoiler.com/2018Spoilers/Holme...  \n",
       "\n",
       "[1078 rows x 4 columns]"
      ]
     },
     "execution_count": 295,
     "metadata": {},
     "output_type": "execute_result"
    }
   ],
   "source": [
    "test_df.rename(columns={\"spoiler\": \"spoiler\", \"title\": \"title\", \"date2\": \"date\", \"url\": \"url\"})"
   ]
  },
  {
   "cell_type": "code",
   "execution_count": 296,
   "metadata": {},
   "outputs": [],
   "source": [
    "test_df = test_df.rename(columns={\"spoiler\": \"spoiler\", \"title\": \"title\", \"date2\": \"date\", \"url\": \"url\"})"
   ]
  },
  {
   "cell_type": "code",
   "execution_count": 298,
   "metadata": {},
   "outputs": [],
   "source": [
    "test_df.to_csv('~/desktop/workingdata2.csv')"
   ]
  },
  {
   "cell_type": "code",
   "execution_count": 300,
   "metadata": {},
   "outputs": [],
   "source": [
    "df = pd.read_csv('~/desktop/workingdata.csv')"
   ]
  },
  {
   "cell_type": "code",
   "execution_count": 301,
   "metadata": {},
   "outputs": [
    {
     "data": {
      "text/html": [
       "<div>\n",
       "<style scoped>\n",
       "    .dataframe tbody tr th:only-of-type {\n",
       "        vertical-align: middle;\n",
       "    }\n",
       "\n",
       "    .dataframe tbody tr th {\n",
       "        vertical-align: top;\n",
       "    }\n",
       "\n",
       "    .dataframe thead th {\n",
       "        text-align: right;\n",
       "    }\n",
       "</style>\n",
       "<table border=\"1\" class=\"dataframe\">\n",
       "  <thead>\n",
       "    <tr style=\"text-align: right;\">\n",
       "      <th></th>\n",
       "      <th>Unnamed: 0</th>\n",
       "      <th>date</th>\n",
       "    </tr>\n",
       "  </thead>\n",
       "  <tbody>\n",
       "    <tr>\n",
       "      <th>count</th>\n",
       "      <td>1078.000000</td>\n",
       "      <td>811.000000</td>\n",
       "    </tr>\n",
       "    <tr>\n",
       "      <th>mean</th>\n",
       "      <td>538.500000</td>\n",
       "      <td>2015.637485</td>\n",
       "    </tr>\n",
       "    <tr>\n",
       "      <th>std</th>\n",
       "      <td>311.336099</td>\n",
       "      <td>2.854371</td>\n",
       "    </tr>\n",
       "    <tr>\n",
       "      <th>min</th>\n",
       "      <td>0.000000</td>\n",
       "      <td>1999.000000</td>\n",
       "    </tr>\n",
       "    <tr>\n",
       "      <th>25%</th>\n",
       "      <td>269.250000</td>\n",
       "      <td>2015.000000</td>\n",
       "    </tr>\n",
       "    <tr>\n",
       "      <th>50%</th>\n",
       "      <td>538.500000</td>\n",
       "      <td>2016.000000</td>\n",
       "    </tr>\n",
       "    <tr>\n",
       "      <th>75%</th>\n",
       "      <td>807.750000</td>\n",
       "      <td>2017.000000</td>\n",
       "    </tr>\n",
       "    <tr>\n",
       "      <th>max</th>\n",
       "      <td>1077.000000</td>\n",
       "      <td>2020.000000</td>\n",
       "    </tr>\n",
       "  </tbody>\n",
       "</table>\n",
       "</div>"
      ],
      "text/plain": [
       "        Unnamed: 0         date\n",
       "count  1078.000000   811.000000\n",
       "mean    538.500000  2015.637485\n",
       "std     311.336099     2.854371\n",
       "min       0.000000  1999.000000\n",
       "25%     269.250000  2015.000000\n",
       "50%     538.500000  2016.000000\n",
       "75%     807.750000  2017.000000\n",
       "max    1077.000000  2020.000000"
      ]
     },
     "execution_count": 301,
     "metadata": {},
     "output_type": "execute_result"
    }
   ],
   "source": [
    "df.describe()"
   ]
  },
  {
   "cell_type": "code",
   "execution_count": 304,
   "metadata": {},
   "outputs": [
    {
     "data": {
      "text/plain": [
       "(1078, 5)"
      ]
     },
     "execution_count": 304,
     "metadata": {},
     "output_type": "execute_result"
    }
   ],
   "source": [
    "df.shape"
   ]
  },
  {
   "cell_type": "code",
   "execution_count": 305,
   "metadata": {},
   "outputs": [
    {
     "data": {
      "text/plain": [
       "Index(['Unnamed: 0', 'spoiler', 'title', 'date', 'url'], dtype='object')"
      ]
     },
     "execution_count": 305,
     "metadata": {},
     "output_type": "execute_result"
    }
   ],
   "source": [
    "df.columns"
   ]
  },
  {
   "cell_type": "code",
   "execution_count": 308,
   "metadata": {},
   "outputs": [],
   "source": [
    "del df['Unnamed: 0']"
   ]
  },
  {
   "cell_type": "code",
   "execution_count": 310,
   "metadata": {},
   "outputs": [],
   "source": [
    "test_df = df"
   ]
  },
  {
   "cell_type": "code",
   "execution_count": 313,
   "metadata": {},
   "outputs": [],
   "source": [
    "test_df['date'] = test_df['date'].astype('Int32')"
   ]
  },
  {
   "cell_type": "code",
   "execution_count": 315,
   "metadata": {},
   "outputs": [],
   "source": [
    "test_df['date'] = test_df['date'].astype(str)"
   ]
  },
  {
   "cell_type": "code",
   "execution_count": 317,
   "metadata": {},
   "outputs": [],
   "source": [
    "test_df.to_csv('~/desktop/workingdata.csv')"
   ]
  },
  {
   "cell_type": "code",
   "execution_count": 318,
   "metadata": {},
   "outputs": [],
   "source": [
    "df = test_df"
   ]
  },
  {
   "cell_type": "code",
   "execution_count": 321,
   "metadata": {},
   "outputs": [
    {
     "data": {
      "text/plain": [
       "Index(['spoiler', 'title', 'date', 'url'], dtype='object')"
      ]
     },
     "execution_count": 321,
     "metadata": {},
     "output_type": "execute_result"
    }
   ],
   "source": [
    "df.columns"
   ]
  },
  {
   "cell_type": "markdown",
   "metadata": {},
   "source": [
    "***THIS IS THE PART WHERE I USE THE TMDB.ORG API TO PULL GENRES FOR THE TITLES - I settle on primary genre as most useful"
   ]
  },
  {
   "cell_type": "code",
   "execution_count": 322,
   "metadata": {},
   "outputs": [],
   "source": [
    "import requests"
   ]
  },
  {
   "cell_type": "code",
   "execution_count": 324,
   "metadata": {},
   "outputs": [],
   "source": [
    "request = requests.get('http://api.themoviedb.org')"
   ]
  },
  {
   "cell_type": "code",
   "execution_count": 327,
   "metadata": {},
   "outputs": [],
   "source": [
    "request = requests.get('https://api.themoviedb.org/3/search/movie?api_key=c6791e522de342ab2838a404558085e5&language=en-US&query=mars+attacks&page=1&include_adult=false')"
   ]
  },
  {
   "cell_type": "code",
   "execution_count": 328,
   "metadata": {},
   "outputs": [
    {
     "data": {
      "text/plain": [
       "<Response [200]>"
      ]
     },
     "execution_count": 328,
     "metadata": {},
     "output_type": "execute_result"
    }
   ],
   "source": [
    "request"
   ]
  },
  {
   "cell_type": "code",
   "execution_count": 329,
   "metadata": {},
   "outputs": [],
   "source": [
    "request = request.json()"
   ]
  },
  {
   "cell_type": "code",
   "execution_count": 330,
   "metadata": {},
   "outputs": [
    {
     "name": "stdout",
     "output_type": "stream",
     "text": [
      "Mars Attacks!\n"
     ]
    }
   ],
   "source": [
    "print(request['results'][0]['title'])"
   ]
  },
  {
   "cell_type": "code",
   "execution_count": 331,
   "metadata": {},
   "outputs": [
    {
     "name": "stdout",
     "output_type": "stream",
     "text": [
      "[35, 14, 878]\n"
     ]
    }
   ],
   "source": [
    "print(request['results'][0]['genre_ids'])"
   ]
  },
  {
   "cell_type": "code",
   "execution_count": 332,
   "metadata": {},
   "outputs": [
    {
     "name": "stdout",
     "output_type": "stream",
     "text": [
      "1996-12-12\n"
     ]
    }
   ],
   "source": [
    "print(request['results'][0]['release_date'])"
   ]
  },
  {
   "cell_type": "code",
   "execution_count": 333,
   "metadata": {},
   "outputs": [],
   "source": [
    "request = requests.get('https://api.themoviedb.org/3/search/movie?api_key=c6791e522de342ab2838a404558085e5&language=en-US&query=mars+attacks&page=1&include_adult=false&year=1996')"
   ]
  },
  {
   "cell_type": "code",
   "execution_count": 334,
   "metadata": {},
   "outputs": [],
   "source": [
    "request = request.json()"
   ]
  },
  {
   "cell_type": "code",
   "execution_count": 335,
   "metadata": {},
   "outputs": [
    {
     "name": "stdout",
     "output_type": "stream",
     "text": [
      "Mars Attacks!\n"
     ]
    }
   ],
   "source": [
    "print(request['results'][0]['title'])"
   ]
  },
  {
   "cell_type": "code",
   "execution_count": 336,
   "metadata": {},
   "outputs": [
    {
     "data": {
      "text/plain": [
       "Index(['spoiler', 'title', 'date', 'url'], dtype='object')"
      ]
     },
     "execution_count": 336,
     "metadata": {},
     "output_type": "execute_result"
    }
   ],
   "source": [
    "df.columns"
   ]
  },
  {
   "cell_type": "code",
   "execution_count": 347,
   "metadata": {},
   "outputs": [],
   "source": [
    "test_df = df"
   ]
  },
  {
   "cell_type": "code",
   "execution_count": 348,
   "metadata": {},
   "outputs": [],
   "source": [
    "test_df['searchstr'] = test_df.title.str.replace('[^a-zA-Z0-9 ]', '')"
   ]
  },
  {
   "cell_type": "code",
   "execution_count": 349,
   "metadata": {},
   "outputs": [
    {
     "data": {
      "text/plain": [
       "Index(['spoiler', 'title', 'date', 'url', 'searchstr'], dtype='object')"
      ]
     },
     "execution_count": 349,
     "metadata": {},
     "output_type": "execute_result"
    }
   ],
   "source": [
    "test_df.columns"
   ]
  },
  {
   "cell_type": "code",
   "execution_count": 351,
   "metadata": {},
   "outputs": [],
   "source": [
    "test_df['searchstr'] = test_df['searchstr'].replace(' ', '+', regex=True)"
   ]
  },
  {
   "cell_type": "code",
   "execution_count": 354,
   "metadata": {},
   "outputs": [],
   "source": [
    "test_df.to_csv('~/desktop/workingdata.csv')"
   ]
  },
  {
   "cell_type": "code",
   "execution_count": 363,
   "metadata": {},
   "outputs": [],
   "source": [
    "test_df['apistr'] = 'https://api.themoviedb.org/3/search/movie?api_key=c6791e522de342ab2838a404558085e5&language=en-US&query=' + test_df['searchstr'] + '&page=1&include_adult=false&year=' + test_df['date'] + ''''''"
   ]
  },
  {
   "cell_type": "code",
   "execution_count": 364,
   "metadata": {},
   "outputs": [
    {
     "data": {
      "text/plain": [
       "0       https://api.themoviedb.org/3/search/movie?api_...\n",
       "1       https://api.themoviedb.org/3/search/movie?api_...\n",
       "2       https://api.themoviedb.org/3/search/movie?api_...\n",
       "3       https://api.themoviedb.org/3/search/movie?api_...\n",
       "4       https://api.themoviedb.org/3/search/movie?api_...\n",
       "                              ...                        \n",
       "1073    https://api.themoviedb.org/3/search/movie?api_...\n",
       "1074    https://api.themoviedb.org/3/search/movie?api_...\n",
       "1075    https://api.themoviedb.org/3/search/movie?api_...\n",
       "1076    https://api.themoviedb.org/3/search/movie?api_...\n",
       "1077    https://api.themoviedb.org/3/search/movie?api_...\n",
       "Name: apistr, Length: 1078, dtype: object"
      ]
     },
     "execution_count": 364,
     "metadata": {},
     "output_type": "execute_result"
    }
   ],
   "source": [
    "test_df.apistr"
   ]
  },
  {
   "cell_type": "code",
   "execution_count": 372,
   "metadata": {},
   "outputs": [],
   "source": [
    "test_df.to_csv('~/desktop/test.csv')"
   ]
  },
  {
   "cell_type": "code",
   "execution_count": 373,
   "metadata": {},
   "outputs": [],
   "source": [
    "test_df.to_csv('~/desktop/workingdata.csv')"
   ]
  },
  {
   "cell_type": "code",
   "execution_count": 408,
   "metadata": {},
   "outputs": [],
   "source": [
    "test_df = df"
   ]
  },
  {
   "cell_type": "code",
   "execution_count": 409,
   "metadata": {},
   "outputs": [
    {
     "data": {
      "text/plain": [
       "(1078, 6)"
      ]
     },
     "execution_count": 409,
     "metadata": {},
     "output_type": "execute_result"
    }
   ],
   "source": [
    "df.shape"
   ]
  },
  {
   "cell_type": "code",
   "execution_count": 417,
   "metadata": {},
   "outputs": [],
   "source": [
    "titles = list()\n",
    "genres = list()\n",
    "for index, row in test_df.iterrows():\n",
    "    try:\n",
    "        request = requests.get(row['apistr'])\n",
    "        request = request.json()\n",
    "        titles.append(request['results'][0]['title'])\n",
    "        genres.append(request['results'][0]['genre_ids'])\n",
    "    except:\n",
    "        continue"
   ]
  },
  {
   "cell_type": "code",
   "execution_count": 421,
   "metadata": {},
   "outputs": [
    {
     "data": {
      "text/plain": [
       "1058"
      ]
     },
     "execution_count": 421,
     "metadata": {},
     "output_type": "execute_result"
    }
   ],
   "source": [
    "len(titles)"
   ]
  },
  {
   "cell_type": "code",
   "execution_count": 422,
   "metadata": {},
   "outputs": [
    {
     "data": {
      "text/plain": [
       "1058"
      ]
     },
     "execution_count": 422,
     "metadata": {},
     "output_type": "execute_result"
    }
   ],
   "source": [
    "len(genres)"
   ]
  },
  {
   "cell_type": "code",
   "execution_count": 424,
   "metadata": {},
   "outputs": [],
   "source": [
    "genre_list = list(zip(titles,genres))"
   ]
  },
  {
   "cell_type": "code",
   "execution_count": 428,
   "metadata": {},
   "outputs": [
    {
     "data": {
      "text/plain": [
       "list"
      ]
     },
     "execution_count": 428,
     "metadata": {},
     "output_type": "execute_result"
    }
   ],
   "source": [
    "type(genre_list)"
   ]
  },
  {
   "cell_type": "code",
   "execution_count": 433,
   "metadata": {},
   "outputs": [],
   "source": [
    "df2 = pd.DataFrame(genre_list, columns = ['title', 'genre'])"
   ]
  },
  {
   "cell_type": "code",
   "execution_count": 436,
   "metadata": {},
   "outputs": [],
   "source": [
    "df2.to_csv('~/desktop/genrelist.csv')"
   ]
  },
  {
   "cell_type": "code",
   "execution_count": 439,
   "metadata": {},
   "outputs": [
    {
     "data": {
      "text/plain": [
       "Index(['spoiler', 'title', 'date', 'url', 'searchstr', 'apistr'], dtype='object')"
      ]
     },
     "execution_count": 439,
     "metadata": {},
     "output_type": "execute_result"
    }
   ],
   "source": [
    "df.columns"
   ]
  },
  {
   "cell_type": "code",
   "execution_count": 445,
   "metadata": {},
   "outputs": [],
   "source": [
    "df['lower_title'] = df.title.str.lower()"
   ]
  },
  {
   "cell_type": "code",
   "execution_count": 447,
   "metadata": {},
   "outputs": [],
   "source": [
    "df2['lower_title'] = df2.title.str.lower()"
   ]
  },
  {
   "cell_type": "code",
   "execution_count": 450,
   "metadata": {},
   "outputs": [],
   "source": [
    "df_join = pd.merge(df, df2, on='lower_title', how='outer')"
   ]
  },
  {
   "cell_type": "code",
   "execution_count": 451,
   "metadata": {},
   "outputs": [
    {
     "data": {
      "text/plain": [
       "1187"
      ]
     },
     "execution_count": 451,
     "metadata": {},
     "output_type": "execute_result"
    }
   ],
   "source": [
    "len(df_join)"
   ]
  },
  {
   "cell_type": "code",
   "execution_count": 452,
   "metadata": {},
   "outputs": [],
   "source": [
    "titles = list()\n",
    "genres = list()\n",
    "idx = list()\n",
    "for index, row in test_df.iterrows():\n",
    "    try:\n",
    "        request = requests.get(row['apistr'])\n",
    "        request = request.json()\n",
    "        titles.append(request['results'][0]['title'])\n",
    "        genres.append(request['results'][0]['genre_ids'])\n",
    "        idx.append(index)\n",
    "    except:\n",
    "        continue"
   ]
  },
  {
   "cell_type": "code",
   "execution_count": 453,
   "metadata": {},
   "outputs": [
    {
     "data": {
      "text/plain": [
       "1058"
      ]
     },
     "execution_count": 453,
     "metadata": {},
     "output_type": "execute_result"
    }
   ],
   "source": [
    "len(titles)"
   ]
  },
  {
   "cell_type": "code",
   "execution_count": 454,
   "metadata": {},
   "outputs": [
    {
     "data": {
      "text/plain": [
       "1058"
      ]
     },
     "execution_count": 454,
     "metadata": {},
     "output_type": "execute_result"
    }
   ],
   "source": [
    "len(genres)"
   ]
  },
  {
   "cell_type": "code",
   "execution_count": 455,
   "metadata": {},
   "outputs": [
    {
     "data": {
      "text/plain": [
       "1058"
      ]
     },
     "execution_count": 455,
     "metadata": {},
     "output_type": "execute_result"
    }
   ],
   "source": [
    "len(idx)"
   ]
  },
  {
   "cell_type": "code",
   "execution_count": 458,
   "metadata": {},
   "outputs": [],
   "source": [
    "output = list(zip(idx,titles,genres))"
   ]
  },
  {
   "cell_type": "code",
   "execution_count": 461,
   "metadata": {},
   "outputs": [],
   "source": [
    "df3 = pd.DataFrame(output, columns = ['idx', 'title', 'genre'])"
   ]
  },
  {
   "cell_type": "code",
   "execution_count": 463,
   "metadata": {},
   "outputs": [
    {
     "data": {
      "text/plain": [
       "(1058, 3)"
      ]
     },
     "execution_count": 463,
     "metadata": {},
     "output_type": "execute_result"
    }
   ],
   "source": [
    "df3.shape"
   ]
  },
  {
   "cell_type": "code",
   "execution_count": 465,
   "metadata": {},
   "outputs": [],
   "source": [
    "df3.to_csv(\"~/desktop/genrelist_with_idx.csv\")"
   ]
  },
  {
   "cell_type": "code",
   "execution_count": 467,
   "metadata": {},
   "outputs": [],
   "source": [
    "df_new = pd.DataFrame(df3).set_index('idx')"
   ]
  },
  {
   "cell_type": "code",
   "execution_count": 469,
   "metadata": {},
   "outputs": [],
   "source": [
    "merge_df = df.merge(df_new, left_index=True, right_index=True)"
   ]
  },
  {
   "cell_type": "code",
   "execution_count": 471,
   "metadata": {},
   "outputs": [
    {
     "data": {
      "text/plain": [
       "(1058, 9)"
      ]
     },
     "execution_count": 471,
     "metadata": {},
     "output_type": "execute_result"
    }
   ],
   "source": [
    "merge_df.shape"
   ]
  },
  {
   "cell_type": "code",
   "execution_count": 472,
   "metadata": {},
   "outputs": [],
   "source": [
    "del merge_df['title_x']"
   ]
  },
  {
   "cell_type": "code",
   "execution_count": 473,
   "metadata": {},
   "outputs": [],
   "source": [
    "del merge_df['lower_title']"
   ]
  },
  {
   "cell_type": "code",
   "execution_count": 474,
   "metadata": {},
   "outputs": [
    {
     "data": {
      "text/plain": [
       "Index(['spoiler', 'date', 'url', 'searchstr', 'apistr', 'title_y', 'genre'], dtype='object')"
      ]
     },
     "execution_count": 474,
     "metadata": {},
     "output_type": "execute_result"
    }
   ],
   "source": [
    "merge_df.columns"
   ]
  },
  {
   "cell_type": "code",
   "execution_count": 475,
   "metadata": {},
   "outputs": [],
   "source": [
    "merge_df = merge_df[['spoiler', 'title_y', 'date', 'genre', 'url', 'searchstr', 'apistr']]"
   ]
  },
  {
   "cell_type": "code",
   "execution_count": 476,
   "metadata": {},
   "outputs": [
    {
     "data": {
      "text/plain": [
       "Index(['spoiler', 'title_y', 'date', 'genre', 'url', 'searchstr', 'apistr'], dtype='object')"
      ]
     },
     "execution_count": 476,
     "metadata": {},
     "output_type": "execute_result"
    }
   ],
   "source": [
    "merge_df.columns"
   ]
  },
  {
   "cell_type": "code",
   "execution_count": 477,
   "metadata": {},
   "outputs": [],
   "source": [
    "merge_df.columns = ['spoiler', 'title', 'year', 'genre', 'url', 'searchstr', 'apistr']"
   ]
  },
  {
   "cell_type": "code",
   "execution_count": 478,
   "metadata": {},
   "outputs": [
    {
     "data": {
      "text/plain": [
       "Index(['spoiler', 'title', 'year', 'genre', 'url', 'searchstr', 'apistr'], dtype='object')"
      ]
     },
     "execution_count": 478,
     "metadata": {},
     "output_type": "execute_result"
    }
   ],
   "source": [
    "merge_df.columns"
   ]
  },
  {
   "cell_type": "code",
   "execution_count": 480,
   "metadata": {},
   "outputs": [],
   "source": [
    "merge_df.to_csv('~/desktop/merged_df.csv')"
   ]
  },
  {
   "cell_type": "code",
   "execution_count": 481,
   "metadata": {},
   "outputs": [],
   "source": [
    "merge_df['spoiler'].replace('', np.nan, inplace=True)"
   ]
  },
  {
   "cell_type": "code",
   "execution_count": 482,
   "metadata": {},
   "outputs": [
    {
     "data": {
      "text/plain": [
       "(1058, 7)"
      ]
     },
     "execution_count": 482,
     "metadata": {},
     "output_type": "execute_result"
    }
   ],
   "source": [
    "merge_df.shape"
   ]
  },
  {
   "cell_type": "code",
   "execution_count": 483,
   "metadata": {},
   "outputs": [],
   "source": [
    "merge_df.dropna(subset=['spoiler'], inplace=True)"
   ]
  },
  {
   "cell_type": "code",
   "execution_count": 484,
   "metadata": {},
   "outputs": [
    {
     "data": {
      "text/plain": [
       "(1053, 7)"
      ]
     },
     "execution_count": 484,
     "metadata": {},
     "output_type": "execute_result"
    }
   ],
   "source": [
    "merge_df.shape"
   ]
  },
  {
   "cell_type": "code",
   "execution_count": 486,
   "metadata": {},
   "outputs": [],
   "source": [
    "merge_df.to_csv('~/desktop/merged_df.csv')"
   ]
  },
  {
   "cell_type": "code",
   "execution_count": 587,
   "metadata": {},
   "outputs": [],
   "source": [
    "df = pd.read_csv('~/desktop/merged_df.csv')"
   ]
  },
  {
   "cell_type": "code",
   "execution_count": 588,
   "metadata": {},
   "outputs": [],
   "source": [
    "del df['Unnamed: 0']"
   ]
  },
  {
   "cell_type": "code",
   "execution_count": 589,
   "metadata": {},
   "outputs": [
    {
     "data": {
      "text/plain": [
       "(1053, 7)"
      ]
     },
     "execution_count": 589,
     "metadata": {},
     "output_type": "execute_result"
    }
   ],
   "source": [
    "df.shape"
   ]
  },
  {
   "cell_type": "code",
   "execution_count": 610,
   "metadata": {},
   "outputs": [],
   "source": [
    "test_df = df"
   ]
  },
  {
   "cell_type": "code",
   "execution_count": 611,
   "metadata": {},
   "outputs": [],
   "source": [
    "test = test_df['genre'][0]"
   ]
  },
  {
   "cell_type": "code",
   "execution_count": 612,
   "metadata": {},
   "outputs": [
    {
     "data": {
      "text/plain": [
       "'[18]'"
      ]
     },
     "execution_count": 612,
     "metadata": {},
     "output_type": "execute_result"
    }
   ],
   "source": [
    "test"
   ]
  },
  {
   "cell_type": "code",
   "execution_count": 613,
   "metadata": {},
   "outputs": [
    {
     "data": {
      "text/plain": [
       "(1053, 7)"
      ]
     },
     "execution_count": 613,
     "metadata": {},
     "output_type": "execute_result"
    }
   ],
   "source": [
    "test_df.shape"
   ]
  },
  {
   "cell_type": "code",
   "execution_count": 614,
   "metadata": {},
   "outputs": [],
   "source": [
    "test_df['genre'] = test_df['genre'].str.replace('[', '')"
   ]
  },
  {
   "cell_type": "code",
   "execution_count": 615,
   "metadata": {},
   "outputs": [],
   "source": [
    "test_df['genre'] = test_df['genre'].str.replace(']', '')"
   ]
  },
  {
   "cell_type": "code",
   "execution_count": 620,
   "metadata": {},
   "outputs": [],
   "source": [
    "test = test_df['genre'].str.extract(\"(^[^\\d]*(\\d+))\")"
   ]
  },
  {
   "cell_type": "code",
   "execution_count": 624,
   "metadata": {},
   "outputs": [],
   "source": [
    "test_df['primary_genre'] = test[0]"
   ]
  },
  {
   "cell_type": "code",
   "execution_count": 626,
   "metadata": {},
   "outputs": [],
   "source": [
    "df = test_df"
   ]
  },
  {
   "cell_type": "code",
   "execution_count": 627,
   "metadata": {},
   "outputs": [],
   "source": [
    "df.to_csv('~/desktop/latest_data.csv', index = False)"
   ]
  },
  {
   "cell_type": "markdown",
   "metadata": {},
   "source": [
    "This next section replaces the genre codes with their labels"
   ]
  },
  {
   "cell_type": "code",
   "execution_count": 633,
   "metadata": {},
   "outputs": [],
   "source": [
    "dict = {\"28\" : \"Action\", \"12\" : \"Adventure\", \"16\" : \"Animation\", \"35\" : \"Comedy\", \"80\" : \"Crime\", \"99\" : \"Documentary\", \"18\" : \"Drama\", \"10751\" : \"Family\", \"14\" : \"Fantasy\", \"36\" : \"History\", \"27\" : \"Horror\", \"10402\" : \"Music\", \"9648\" : \"Mystery\", \"10749\" : \"Romance\", \"878\" : \"SciFi\", \"10770\" : \"TVMovie\", \"53\" : \"Thriller\", \"10752\" : \"War\", \"37\" : \"Western\"}"
   ]
  },
  {
   "cell_type": "code",
   "execution_count": 634,
   "metadata": {},
   "outputs": [],
   "source": [
    "test_df = df"
   ]
  },
  {
   "cell_type": "code",
   "execution_count": 635,
   "metadata": {},
   "outputs": [],
   "source": [
    "test_df = test_df.replace({'primary_genre': dict})"
   ]
  },
  {
   "cell_type": "code",
   "execution_count": 636,
   "metadata": {},
   "outputs": [
    {
     "data": {
      "text/plain": [
       "0     Drama\n",
       "1    Comedy\n",
       "2     Drama\n",
       "3    Comedy\n",
       "4     SciFi\n",
       "Name: primary_genre, dtype: object"
      ]
     },
     "execution_count": 636,
     "metadata": {},
     "output_type": "execute_result"
    }
   ],
   "source": [
    "test_df['primary_genre'].head()"
   ]
  },
  {
   "cell_type": "code",
   "execution_count": 638,
   "metadata": {},
   "outputs": [],
   "source": [
    "cols = list(test_df.columns)\n",
    "a, b = cols.index('genre'), cols.index('primary_genre')\n",
    "cols[b], cols[a] = cols[a], cols[b]\n",
    "test_df = test_df[cols]"
   ]
  },
  {
   "cell_type": "code",
   "execution_count": 641,
   "metadata": {},
   "outputs": [],
   "source": [
    "test_df['year'] = test_df['year'].astype('Int32')"
   ]
  },
  {
   "cell_type": "code",
   "execution_count": 644,
   "metadata": {},
   "outputs": [],
   "source": [
    "test_df.to_csv('~/desktop/finalformat.csv', index = False)"
   ]
  },
  {
   "cell_type": "code",
   "execution_count": null,
   "metadata": {},
   "outputs": [],
   "source": [
    "#up to here is all preparation of the data for analysis ..."
   ]
  }
 ],
 "metadata": {
  "kernelspec": {
   "display_name": "Python 3",
   "language": "python",
   "name": "python3"
  },
  "language_info": {
   "codemirror_mode": {
    "name": "ipython",
    "version": 3
   },
   "file_extension": ".py",
   "mimetype": "text/x-python",
   "name": "python",
   "nbconvert_exporter": "python",
   "pygments_lexer": "ipython3",
   "version": "3.8.3"
  }
 },
 "nbformat": 4,
 "nbformat_minor": 4
}
