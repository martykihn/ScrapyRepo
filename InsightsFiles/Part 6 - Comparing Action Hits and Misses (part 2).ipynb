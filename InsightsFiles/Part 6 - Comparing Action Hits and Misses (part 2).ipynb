{
 "cells": [
  {
   "cell_type": "markdown",
   "metadata": {},
   "source": [
    "This final file continues the comparison of Action Movie Hits vs. Misses\n",
    "\n",
    "This one looks at POS (parts of speech) to see if there are any\n",
    "types of words that are more common in Hits vs Misses"
   ]
  },
  {
   "cell_type": "code",
   "execution_count": 66,
   "metadata": {},
   "outputs": [],
   "source": [
    "import os\n",
    "os.chdir('/Users/martinkihn/Desktop')"
   ]
  },
  {
   "cell_type": "code",
   "execution_count": 67,
   "metadata": {},
   "outputs": [],
   "source": [
    "import re\n",
    "import unicodedata\n",
    "import nltk\n",
    "from nltk import FreqDist\n",
    "import pandas as pd\n",
    "from nltk.corpus import stopwords\n",
    "import matplotlib.pyplot as plt"
   ]
  },
  {
   "cell_type": "code",
   "execution_count": 68,
   "metadata": {},
   "outputs": [],
   "source": [
    "def basic_clean(text):\n",
    "    wnl = nltk.stem.WordNetLemmatizer()\n",
    "    stopwords = nltk.corpus.stopwords.words('english')\n",
    "    text = (unicodedata.normalize('NFKD', text)\n",
    "           .encode('ascii', 'ignore')\n",
    "           .decode('utf-8', 'ignore')\n",
    "           .lower())\n",
    "    words = re.sub(r'[^\\w\\s]', '', text).split()\n",
    "    return [wnl.lemmatize(word) for word in words if word not in stopwords]"
   ]
  },
  {
   "cell_type": "code",
   "execution_count": 69,
   "metadata": {},
   "outputs": [],
   "source": [
    "with open('spoiler_text_files/action_hits.txt', 'r') as file:\n",
    "    action_hits = file.read()"
   ]
  },
  {
   "cell_type": "code",
   "execution_count": 70,
   "metadata": {},
   "outputs": [],
   "source": [
    "with open('spoiler_text_files/action_misses.txt', 'r') as file:\n",
    "    action_misses = file.read()"
   ]
  },
  {
   "cell_type": "code",
   "execution_count": 71,
   "metadata": {},
   "outputs": [
    {
     "data": {
      "text/plain": [
       "(738214, 978356)"
      ]
     },
     "execution_count": 71,
     "metadata": {},
     "output_type": "execute_result"
    }
   ],
   "source": [
    "len(action_hits), len(action_misses)"
   ]
  },
  {
   "cell_type": "code",
   "execution_count": 72,
   "metadata": {},
   "outputs": [],
   "source": [
    "action_hits = basic_clean(action_hits)"
   ]
  },
  {
   "cell_type": "code",
   "execution_count": 73,
   "metadata": {},
   "outputs": [],
   "source": [
    "action_misses = basic_clean(action_misses)"
   ]
  },
  {
   "cell_type": "code",
   "execution_count": 74,
   "metadata": {},
   "outputs": [
    {
     "data": {
      "text/plain": [
       "(70669, 95207)"
      ]
     },
     "execution_count": 74,
     "metadata": {},
     "output_type": "execute_result"
    }
   ],
   "source": [
    "len(action_hits), len(action_misses)"
   ]
  },
  {
   "cell_type": "code",
   "execution_count": 75,
   "metadata": {},
   "outputs": [],
   "source": [
    "hits_str = ' '.join(action_hits)"
   ]
  },
  {
   "cell_type": "code",
   "execution_count": 76,
   "metadata": {},
   "outputs": [],
   "source": [
    "misses_str = ' '.join(action_misses)"
   ]
  },
  {
   "cell_type": "code",
   "execution_count": 77,
   "metadata": {},
   "outputs": [],
   "source": [
    "#tokenize the strings\n",
    "hits_tokens = nltk.word_tokenize(hits_str)\n",
    "misses_tokens = nltk.word_tokenize(misses_str)"
   ]
  },
  {
   "cell_type": "code",
   "execution_count": 78,
   "metadata": {},
   "outputs": [],
   "source": [
    "#convert into text object\n",
    "hits_text = nltk.Text(hits_tokens)\n",
    "misses_text = nltk.Text(misses_tokens)"
   ]
  },
  {
   "cell_type": "code",
   "execution_count": 79,
   "metadata": {},
   "outputs": [],
   "source": [
    "pos_hits = nltk.pos_tag(hits_tokens)"
   ]
  },
  {
   "cell_type": "code",
   "execution_count": 80,
   "metadata": {},
   "outputs": [],
   "source": [
    "pos_misses = nltk.pos_tag(misses_tokens)"
   ]
  },
  {
   "cell_type": "code",
   "execution_count": 81,
   "metadata": {},
   "outputs": [],
   "source": [
    "#group tuples by POS\n",
    "output_hits = {}\n",
    "for x, y in pos_hits:\n",
    "    if y in output_hits:\n",
    "        output_hits[y].append((x, y))\n",
    "    else:\n",
    "        output_hits[y] = [(x, y)]"
   ]
  },
  {
   "cell_type": "code",
   "execution_count": 82,
   "metadata": {},
   "outputs": [],
   "source": [
    "output_misses = {}\n",
    "for x, y in pos_misses:\n",
    "    if y in output_misses:\n",
    "        output_misses[y].append((x, y))\n",
    "    else:\n",
    "        output_misses[y] = [(x, y)]"
   ]
  },
  {
   "cell_type": "code",
   "execution_count": 83,
   "metadata": {},
   "outputs": [],
   "source": [
    "import numpy as np\n",
    "import collections\n",
    "from collections import Counter\n",
    "from itertools import chain"
   ]
  },
  {
   "cell_type": "code",
   "execution_count": 102,
   "metadata": {},
   "outputs": [],
   "source": [
    "count_dict_hits = dict.fromkeys(output_hits.keys(), 0)"
   ]
  },
  {
   "cell_type": "code",
   "execution_count": 103,
   "metadata": {},
   "outputs": [],
   "source": [
    "count_dict_misses = dict.fromkeys(output_misses.keys(), 0)"
   ]
  },
  {
   "cell_type": "code",
   "execution_count": 104,
   "metadata": {},
   "outputs": [],
   "source": [
    "for pos in output_hits:\n",
    "    count_dict_hits[pos] = len(output_hits[pos])"
   ]
  },
  {
   "cell_type": "code",
   "execution_count": 105,
   "metadata": {},
   "outputs": [],
   "source": [
    "for pos in output_misses:\n",
    "    count_dict_misses[pos] = len(output_misses[pos])"
   ]
  },
  {
   "cell_type": "code",
   "execution_count": 106,
   "metadata": {},
   "outputs": [],
   "source": [
    "#get pcts of words by POS\n",
    "pct_dict_hits = dict.fromkeys(output_hits.keys(), 0)\n",
    "s = sum(count_dict_hits.values())\n",
    "for k, v in count_dict_hits.items():\n",
    "    pct_dict_hits[k] = v * 100.0 / s"
   ]
  },
  {
   "cell_type": "code",
   "execution_count": 107,
   "metadata": {},
   "outputs": [],
   "source": [
    "pct_dict_misses = dict.fromkeys(output_misses.keys(), 0)\n",
    "s = sum(count_dict_misses.values())\n",
    "for k, v in count_dict_misses.items():\n",
    "    pct_dict_misses[k] = v * 100.0 / s"
   ]
  },
  {
   "cell_type": "code",
   "execution_count": 108,
   "metadata": {},
   "outputs": [],
   "source": [
    "from pylab import rcParams\n",
    "rcParams['figure.figsize'] = 5, 9\n",
    "z_hits = dict(sorted(pct_dict_hits.items(), key=lambda item: item[1]))"
   ]
  },
  {
   "cell_type": "code",
   "execution_count": 109,
   "metadata": {},
   "outputs": [],
   "source": [
    "del z_hits['NN'] ##remove nouns and adjectives -- too common\n",
    "del z_hits['JJ']"
   ]
  },
  {
   "cell_type": "code",
   "execution_count": 111,
   "metadata": {},
   "outputs": [
    {
     "data": {
      "image/png": "[encoded data removed]",
      "text/plain": [
       "<Figure size 360x648 with 1 Axes>"
      ]
     },
     "metadata": {
      "needs_background": "light"
     },
     "output_type": "display_data"
    }
   ],
   "source": [
    "z_hits = z_hits.items()\n",
    "x, y_hits = zip(*z_hits)\n",
    "plt.plot(y_hits, x)\n",
    "plt.show()"
   ]
  },
  {
   "cell_type": "code",
   "execution_count": 112,
   "metadata": {},
   "outputs": [
    {
     "data": {
      "image/png": "[encoded data removed]",
      "text/plain": [
       "<Figure size 360x648 with 1 Axes>"
      ]
     },
     "metadata": {
      "needs_background": "light"
     },
     "output_type": "display_data"
    }
   ],
   "source": [
    "z_misses = dict(sorted(pct_dict_misses.items(), key=lambda item: item[1]))\n",
    "del z_misses['SYM']\n",
    "del z_misses['NN']\n",
    "del z_misses['JJ']\n",
    "z_misses = z_misses.items()\n",
    "x, y_misses = zip(*z_misses)\n",
    "plt.plot(y_misses, x)\n",
    "plt.show()"
   ]
  },
  {
   "cell_type": "code",
   "execution_count": 113,
   "metadata": {},
   "outputs": [],
   "source": [
    "# x = POS, y_hits = counts hits, y_misses = counts misses"
   ]
  },
  {
   "cell_type": "markdown",
   "metadata": {},
   "source": [
    "# Comparing POS Frequencies\n",
    "\n",
    "The plot below overlays POS freq's for Action Hits & Misses (as labeled) -- it backs up my hypothesis that Action movies have more action verbs, verbs and proper nouns (definite nouns) in their spoilers. More striking is the degree of difference among the parts of speech - and the patterns in general.\n",
    "\n",
    "Perhaps the difference between hits and misses is not their plot language but other factors - actors, production values, franchises, etc. More exploration is needed."
   ]
  },
  {
   "cell_type": "code",
   "execution_count": 114,
   "metadata": {},
   "outputs": [],
   "source": [
    "#tick marks\n",
    "import numpy as np\n",
    "ynumbers = np.linspace(0, 50, 5)"
   ]
  },
  {
   "cell_type": "code",
   "execution_count": 115,
   "metadata": {},
   "outputs": [
    {
     "data": {
      "image/png": "[encoded data removed]",
      "text/plain": [
       "<Figure size 360x648 with 1 Axes>"
      ]
     },
     "metadata": {
      "needs_background": "light"
     },
     "output_type": "display_data"
    }
   ],
   "source": [
    "plt.plot(y_hits, x, color = 'r', label='hits')\n",
    "plt.plot(y_misses, x, color = 'g', label='misses')\n",
    "plt.xlabel(\"Part of Speech\")\n",
    "plt.ylabel(\"Counts\")\n",
    "plt.title(\"Parts of Speech for Action Hits & Misses\")\n",
    "plt.legend()\n",
    "plt.grid()\n",
    "plt.show()"
   ]
  },
  {
   "cell_type": "code",
   "execution_count": 120,
   "metadata": {},
   "outputs": [
    {
     "data": {
      "text/plain": [
       "{('an', 'DT'),\n",
       " ('another', 'DT'),\n",
       " ('azeroth', 'DT'),\n",
       " ('either', 'DT'),\n",
       " ('every', 'DT'),\n",
       " ('fall', 'DT'),\n",
       " ('heimdall', 'DT'),\n",
       " ('krall', 'DT'),\n",
       " ('neither', 'DT'),\n",
       " ('toth', 'DT'),\n",
       " ('wall', 'DT')}"
      ]
     },
     "execution_count": 120,
     "metadata": {},
     "output_type": "execute_result"
    }
   ],
   "source": [
    "set(output_hits['DT'])"
   ]
  },
  {
   "cell_type": "code",
   "execution_count": null,
   "metadata": {},
   "outputs": [],
   "source": [
    "##DT is 'Determiner' - it seems to be a bit haphazard"
   ]
  }
 ],
 "metadata": {
  "kernelspec": {
   "display_name": "Python 3",
   "language": "python",
   "name": "python3"
  },
  "language_info": {
   "codemirror_mode": {
    "name": "ipython",
    "version": 3
   },
   "file_extension": ".py",
   "mimetype": "text/x-python",
   "name": "python",
   "nbconvert_exporter": "python",
   "pygments_lexer": "ipython3",
   "version": "3.8.3"
  }
 },
 "nbformat": 4,
 "nbformat_minor": 4
}
